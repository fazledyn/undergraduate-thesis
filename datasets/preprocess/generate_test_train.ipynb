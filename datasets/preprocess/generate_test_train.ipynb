{
 "cells": [
  {
   "cell_type": "code",
   "execution_count": null,
   "metadata": {},
   "outputs": [],
   "source": [
    "import pandas as pd\n",
    "import numpy as np\n",
    "import csv"
   ]
  },
  {
   "cell_type": "code",
   "execution_count": 1,
   "metadata": {},
   "outputs": [],
   "source": [
    "rest_ds = \"./restaurent_clean.csv\"\n",
    "sent_ds = \"./sentnob_clean.csv\"\n",
    "\n",
    "df_rest = pd.read_csv(rest_ds)\n",
    "df_sent = pd.read_csv(sent_ds)\n",
    "\n",
    "df_merge = pd.concat([\n",
    "    df_rest,\n",
    "    df_sent\n",
    "])\n",
    "\n",
    "\n"
   ]
  }
 ],
 "metadata": {
  "kernelspec": {
   "display_name": "Python 3",
   "language": "python",
   "name": "python3"
  },
  "language_info": {
   "codemirror_mode": {
    "name": "ipython",
    "version": 3
   },
   "file_extension": ".py",
   "mimetype": "text/x-python",
   "name": "python",
   "nbconvert_exporter": "python",
   "pygments_lexer": "ipython3",
   "version": "3.10.6"
  },
  "orig_nbformat": 4
 },
 "nbformat": 4,
 "nbformat_minor": 2
}
