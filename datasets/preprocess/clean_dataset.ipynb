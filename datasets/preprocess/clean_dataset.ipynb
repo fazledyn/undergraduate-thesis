{
 "cells": [
  {
   "cell_type": "code",
   "execution_count": 63,
   "metadata": {},
   "outputs": [],
   "source": [
    "import pandas as pd\n",
    "import numpy as np\n",
    "import csv"
   ]
  },
  {
   "attachments": {},
   "cell_type": "markdown",
   "metadata": {},
   "source": [
    "# Restaurant Reviews Cleaning"
   ]
  },
  {
   "cell_type": "code",
   "execution_count": 64,
   "metadata": {},
   "outputs": [
    {
     "name": "stdout",
     "output_type": "stream",
     "text": [
      "Index(['sentence', 'label'], dtype='object')\n"
     ]
    }
   ],
   "source": [
    "rest_ds = \"./Restaurant Reviews.csv\"\n",
    "\n",
    "df = pd.read_csv(rest_ds)\n",
    "print(df.columns)\n",
    "\n",
    "def clean_sentence(sentence: str):\n",
    "    sentence = sentence.replace(\".\", \"\").replace(\"\\\"\", \"'\").replace(\"_\", \"\").replace(\",,\", \",\").replace(\"!!\", \"!\").replace(\"||\", \"|\")\n",
    "    word_list = sentence.split(\" \")\n",
    "    sentence = \" \".join(word_list)\n",
    "    return sentence\n",
    "\n",
    "\n",
    "for i, row in df.iterrows():\n",
    "    df.at[i, \"sentence\"] = clean_sentence(row[\"sentence\"])\n",
    "    df.at[i, \"label\"] = row[\"label\"].lower()\n",
    "\n",
    "df.head()\n",
    "df.to_csv(\"restaurent_clean.csv\", index=False, quoting=csv.QUOTE_ALL)"
   ]
  },
  {
   "attachments": {},
   "cell_type": "markdown",
   "metadata": {},
   "source": [
    "# SentNoB Cleaning"
   ]
  },
  {
   "cell_type": "code",
   "execution_count": 65,
   "metadata": {},
   "outputs": [
    {
     "name": "stdout",
     "output_type": "stream",
     "text": [
      "6410\n",
      "5709\n"
     ]
    }
   ],
   "source": [
    "snb_test = \"./SentNoB Dataset/Final_Test.csv\"\n",
    "snb_train = \"./SentNoB Dataset/Final_Train.csv\"\n",
    "snb_val = \"./SentNoB Dataset/Final_Val.csv\"\n",
    "\n",
    "df_test  = pd.read_csv(snb_test)\n",
    "df_train = pd.read_csv(snb_train)\n",
    "df_val   = pd.read_csv(snb_val)\n",
    "\n",
    "df_main = pd.concat([df_test, df_train, df_val])\n",
    "\n",
    "df_main_pos = df_main[ df_main[\"label\"] == 1 ]\n",
    "df_main_neg = df_main[ df_main[\"label\"] == 2 ]\n",
    "\n",
    "print(len(df_main_pos))\n",
    "print(len(df_main_neg))\n",
    "\n",
    "df_clean = pd.concat([df_main_pos, df_main_neg])\n",
    "\n",
    "for i, row in df_clean.iterrows():\n",
    "\n",
    "    if row[\"label\"] == 1:\n",
    "        df_clean.at[i, \"label\"] = \"positive\"\n",
    "    elif row[\"label\"] == 2:\n",
    "        df_clean.at[i, \"label\"] = \"negative\"\n",
    "\n",
    "df_clean.head()\n",
    "df_clean.to_csv(\"sentnob_clean.csv\", index=False, quoting=csv.QUOTE_ALL)"
   ]
  }
 ],
 "metadata": {
  "kernelspec": {
   "display_name": "Python 3",
   "language": "python",
   "name": "python3"
  },
  "language_info": {
   "codemirror_mode": {
    "name": "ipython",
    "version": 3
   },
   "file_extension": ".py",
   "mimetype": "text/x-python",
   "name": "python",
   "nbconvert_exporter": "python",
   "pygments_lexer": "ipython3",
   "version": "3.10.6"
  },
  "orig_nbformat": 4
 },
 "nbformat": 4,
 "nbformat_minor": 2
}
